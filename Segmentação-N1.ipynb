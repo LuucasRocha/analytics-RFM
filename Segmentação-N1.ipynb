{
 "cells": [
  {
   "cell_type": "code",
   "execution_count": 0,
   "metadata": {
    "application/vnd.databricks.v1+cell": {
     "cellMetadata": {
      "byteLimit": 2048000,
      "rowLimit": 10000
     },
     "inputWidgets": {},
     "nuid": "62597e48-e03c-4d10-8724-deaaf0829e2d",
     "showTitle": false,
     "tableResultSettingsMap": {},
     "title": ""
    }
   },
   "outputs": [],
   "source": [
    "!pip install kagglehub --quiet"
   ]
  },
  {
   "cell_type": "code",
   "execution_count": 0,
   "metadata": {
    "application/vnd.databricks.v1+cell": {
     "cellMetadata": {
      "byteLimit": 2048000,
      "rowLimit": 10000
     },
     "inputWidgets": {},
     "nuid": "82b56ee0-aeb5-4499-b2e0-dae2231428a9",
     "showTitle": false,
     "tableResultSettingsMap": {},
     "title": ""
    }
   },
   "outputs": [],
   "source": [
    "# BRONZE - Baixar e ler o Online Retail II (UCI) de forma resiliente\n",
    "import kagglehub, os, pandas as pd\n",
    "\n",
    "# Baixa (ou reusa cache) e captura o caminho atual da sessão\n",
    "path = kagglehub.dataset_download(\"mashlyn/online-retail-ii-uci\")\n",
    "print(\"Dataset em:\", path)\n",
    "print(\"Arquivos:\", os.listdir(path))\n",
    "\n",
    "# Descobre o CSV automaticamente (evita hardcode e erros ao reiniciar kernel)\n",
    "csv_candidates = [f for f in os.listdir(path) if f.lower().endswith(\".csv\")]\n",
    "if not csv_candidates:\n",
    "    raise FileNotFoundError(\"Nenhum CSV encontrado no diretório do dataset. Verifique os arquivos listados acima.\")\n",
    "\n",
    "csv_path = os.path.join(path, csv_candidates[0])\n",
    "print(\"Usando CSV:\", csv_path)\n",
    "\n",
    "# Leitura com pandas (encoding e data já tratados)\n",
    "df_pandas = pd.read_csv(\n",
    "    csv_path,\n",
    "    encoding=\"ISO-8859-1\",        # troque para \"utf-8\" se necessário\n",
    "    parse_dates=[\"InvoiceDate\"],\n",
    "    dayfirst=True\n",
    ")\n",
    "\n",
    "# Converte para Spark e cria a BRONZE\n",
    "df = spark.createDataFrame(df_pandas)\n",
    "df.createOrReplaceTempView(\"bronze_temp\")\n",
    "\n",
    "display(df.limit(5))\n",
    "\n"
   ]
  },
  {
   "cell_type": "code",
   "execution_count": 0,
   "metadata": {
    "application/vnd.databricks.v1+cell": {
     "cellMetadata": {
      "byteLimit": 2048000,
      "rowLimit": 10000
     },
     "inputWidgets": {},
     "nuid": "d88f72fe-551b-49be-8fd5-a64dd84cdd32",
     "showTitle": false,
     "tableResultSettingsMap": {},
     "title": ""
    }
   },
   "outputs": [],
   "source": [
    "from pyspark.sql.functions import col, to_timestamp, round as sround\n",
    "\n",
    "bronze = spark.table(\"bronze_temp\")\n",
    "\n",
    "# 1) Limpeza e tipagem\n",
    "silver_all = (\n",
    "    bronze\n",
    "    .withColumnRenamed(\"Invoice\", \"InvoiceNo\")\n",
    "    .withColumnRenamed(\"Customer ID\", \"CustomerID\")\n",
    "    .withColumnRenamed(\"Price\", \"UnitPrice\")\n",
    "    .withColumn(\"InvoiceDate\", to_timestamp(col(\"InvoiceDate\")))\n",
    "    .withColumn(\"Quantity\", col(\"Quantity\").cast(\"int\"))\n",
    "    .withColumn(\"UnitPrice\", col(\"UnitPrice\").cast(\"double\"))\n",
    "    .filter(col(\"CustomerID\").isNotNull())\n",
    "    .filter((col(\"Quantity\") > 0) & (col(\"UnitPrice\") > 0))\n",
    "    .filter(~col(\"InvoiceNo\").startswith(\"C\"))   # remove notas de crédito/cancelamentos\n",
    "    .withColumn(\"Amount\", sround(col(\"Quantity\") * col(\"UnitPrice\"), 2))\n",
    "    .dropDuplicates([\"InvoiceNo\", \"CustomerID\", \"InvoiceDate\", \"Amount\"])\n",
    ")\n",
    "\n",
    "# 2) Projeção (somente colunas úteis para a Gold + storytelling)\n",
    "silver = silver_all.select(\n",
    "    \"CustomerID\", \"InvoiceNo\", \"InvoiceDate\", \"Quantity\", \"UnitPrice\", \"Amount\", \"Country\"\n",
    ")\n",
    "\n",
    "# 3) View Silver (mantém o mesmo nome esperado pela Gold)\n",
    "silver.createOrReplaceTempView(\"transacoes_silver\")\n",
    "\n",
    "display(silver.limit(5))\n",
    "\n",
    "\n",
    "\n"
   ]
  },
  {
   "cell_type": "markdown",
   "metadata": {
    "application/vnd.databricks.v1+cell": {
     "cellMetadata": {},
     "inputWidgets": {},
     "nuid": "d7541f62-3768-4a87-a382-d3c745158339",
     "showTitle": false,
     "tableResultSettingsMap": {},
     "title": ""
    }
   },
   "source": [
    "GOLD - Cálculo das métricas R, F e M (RFM)\n",
    "-- Data de referência = última data do dataset (reprodutível)"
   ]
  },
  {
   "cell_type": "code",
   "execution_count": 0,
   "metadata": {
    "application/vnd.databricks.v1+cell": {
     "cellMetadata": {
      "byteLimit": 2048000,
      "implicitDf": true,
      "rowLimit": 10000
     },
     "inputWidgets": {},
     "nuid": "778c8150-460d-468f-ad2b-6f3705bad018",
     "showTitle": false,
     "tableResultSettingsMap": {},
     "title": ""
    }
   },
   "outputs": [],
   "source": [
    "%sql\n",
    "create or replace temp view _ref as\n",
    "select MAX(InvoiceDate) as ref_date\n",
    "from transacoes_silver;"
   ]
  },
  {
   "cell_type": "markdown",
   "metadata": {
    "application/vnd.databricks.v1+cell": {
     "cellMetadata": {},
     "inputWidgets": {},
     "nuid": "7089a3db-a196-4b4c-b29e-b405594a0e2c",
     "showTitle": false,
     "tableResultSettingsMap": {},
     "title": ""
    }
   },
   "source": [
    "Recencia"
   ]
  },
  {
   "cell_type": "code",
   "execution_count": 0,
   "metadata": {
    "application/vnd.databricks.v1+cell": {
     "cellMetadata": {
      "byteLimit": 2048000,
      "implicitDf": true,
      "rowLimit": 10000
     },
     "inputWidgets": {},
     "nuid": "b1d5f8b3-7acf-41be-8e34-fb5665f612f3",
     "showTitle": false,
     "tableResultSettingsMap": {},
     "title": ""
    }
   },
   "outputs": [],
   "source": [
    "%sql\n",
    "create or replace temp view recencia as\n",
    "with last_purchase as (\n",
    "    select CustomerID, MAX(InvoiceDate) AS last_date\n",
    "    from transacoes_silver\n",
    "    group by CustomerID\n",
    ")\n",
    "select l.CustomerID,\n",
    "       DATEDIFF(r.ref_date, l.last_date) as R\n",
    "from last_purchase l cross join _ref r;"
   ]
  },
  {
   "cell_type": "code",
   "execution_count": 0,
   "metadata": {
    "application/vnd.databricks.v1+cell": {
     "cellMetadata": {
      "byteLimit": 2048000,
      "implicitDf": true,
      "rowLimit": 10000
     },
     "inputWidgets": {},
     "nuid": "a926be35-5a51-40dc-be61-a5e520b43905",
     "showTitle": false,
     "tableResultSettingsMap": {},
     "title": ""
    }
   },
   "outputs": [],
   "source": [
    "%sql\n",
    "select * from recencia"
   ]
  },
  {
   "cell_type": "markdown",
   "metadata": {
    "application/vnd.databricks.v1+cell": {
     "cellMetadata": {},
     "inputWidgets": {},
     "nuid": "05aadb76-4d8a-420f-8953-9640d0724a1b",
     "showTitle": false,
     "tableResultSettingsMap": {},
     "title": ""
    }
   },
   "source": [
    "Frequência (F) - soma de itens (poderia ser nº de pedidos com COUNT(DISTINCT InvoiceNo))"
   ]
  },
  {
   "cell_type": "code",
   "execution_count": 0,
   "metadata": {
    "application/vnd.databricks.v1+cell": {
     "cellMetadata": {
      "byteLimit": 2048000,
      "implicitDf": true,
      "rowLimit": 10000
     },
     "inputWidgets": {},
     "nuid": "76451584-c5dc-4b96-bf45-79031b9b2a62",
     "showTitle": false,
     "tableResultSettingsMap": {},
     "title": ""
    }
   },
   "outputs": [],
   "source": [
    "%sql\n",
    "create or replace temp view frequencia as\n",
    "    select CustomerID, SUM(quantity) as F from transacoes_silver group by CustomerID order by CustomerID\n"
   ]
  },
  {
   "cell_type": "markdown",
   "metadata": {
    "application/vnd.databricks.v1+cell": {
     "cellMetadata": {},
     "inputWidgets": {},
     "nuid": "bf9acc7a-5111-46ad-9020-32ec47422901",
     "showTitle": false,
     "tableResultSettingsMap": {},
     "title": ""
    }
   },
   "source": [
    "Monetário (M)"
   ]
  },
  {
   "cell_type": "code",
   "execution_count": 0,
   "metadata": {
    "application/vnd.databricks.v1+cell": {
     "cellMetadata": {
      "byteLimit": 2048000,
      "implicitDf": true,
      "rowLimit": 10000
     },
     "inputWidgets": {},
     "nuid": "061b0cb9-2f0d-4732-a388-a7c34ed5e4a8",
     "showTitle": false,
     "tableResultSettingsMap": {},
     "title": ""
    }
   },
   "outputs": [],
   "source": [
    "%sql\n",
    "create or replace temp view monetaridade as\n",
    "    select CustomerID, SUM(amount) as M from transacoes_silver group by CustomerID order by CustomerID"
   ]
  },
  {
   "cell_type": "markdown",
   "metadata": {
    "application/vnd.databricks.v1+cell": {
     "cellMetadata": {},
     "inputWidgets": {},
     "nuid": "7c86abe0-dd93-4b10-bc9b-872010190bd8",
     "showTitle": false,
     "tableResultSettingsMap": {},
     "title": ""
    }
   },
   "source": [
    "Quintis (scores)"
   ]
  },
  {
   "cell_type": "code",
   "execution_count": 0,
   "metadata": {
    "application/vnd.databricks.v1+cell": {
     "cellMetadata": {
      "byteLimit": 2048000,
      "implicitDf": true,
      "rowLimit": 10000
     },
     "inputWidgets": {},
     "nuid": "767a2fbd-7b7a-4703-8672-693584e1efcd",
     "showTitle": false,
     "tableResultSettingsMap": {},
     "title": ""
    }
   },
   "outputs": [],
   "source": [
    "%sql\n",
    "CREATE OR REPLACE TEMP VIEW R_score AS\n",
    "SELECT CustomerID, R, 6 - NTILE(5) OVER (ORDER BY R ASC) AS R_score\n",
    "FROM recencia;"
   ]
  },
  {
   "cell_type": "code",
   "execution_count": 0,
   "metadata": {
    "application/vnd.databricks.v1+cell": {
     "cellMetadata": {
      "byteLimit": 2048000,
      "implicitDf": true,
      "rowLimit": 10000
     },
     "inputWidgets": {},
     "nuid": "0beb5b78-0752-40c3-a300-5979c50b710d",
     "showTitle": false,
     "tableResultSettingsMap": {},
     "title": ""
    }
   },
   "outputs": [],
   "source": [
    "%sql\n",
    "CREATE OR REPLACE TEMP VIEW frequencia_score AS\n",
    "SELECT CustomerID, F, NTILE(5) OVER (ORDER BY F ASC) AS F_score\n",
    "FROM frequencia;"
   ]
  },
  {
   "cell_type": "code",
   "execution_count": 0,
   "metadata": {
    "application/vnd.databricks.v1+cell": {
     "cellMetadata": {
      "byteLimit": 2048000,
      "implicitDf": true,
      "rowLimit": 10000
     },
     "inputWidgets": {},
     "nuid": "70b63171-c4a1-41a9-a2c9-30e29d9d08e9",
     "showTitle": false,
     "tableResultSettingsMap": {},
     "title": ""
    }
   },
   "outputs": [],
   "source": [
    "%sql\n",
    "CREATE OR REPLACE TEMP VIEW monetaridade_score AS\n",
    "SELECT CustomerID, M, NTILE(5) OVER (ORDER BY M ASC) AS M_score\n",
    "FROM monetaridade;"
   ]
  },
  {
   "cell_type": "markdown",
   "metadata": {
    "application/vnd.databricks.v1+cell": {
     "cellMetadata": {},
     "inputWidgets": {},
     "nuid": "f05cb335-e618-4f45-96ab-0742af4a6453",
     "showTitle": false,
     "tableResultSettingsMap": {},
     "title": ""
    }
   },
   "source": [
    "-- RFM + média(F,M)"
   ]
  },
  {
   "cell_type": "code",
   "execution_count": 0,
   "metadata": {
    "application/vnd.databricks.v1+cell": {
     "cellMetadata": {
      "byteLimit": 2048000,
      "implicitDf": true,
      "rowLimit": 10000
     },
     "inputWidgets": {},
     "nuid": "63693445-efb5-4985-95a4-0aa01972a9d1",
     "showTitle": false,
     "tableResultSettingsMap": {},
     "title": ""
    }
   },
   "outputs": [],
   "source": [
    "%sql\n",
    "CREATE OR REPLACE TEMP VIEW rfm_silver AS\n",
    "SELECT r.CustomerID, r.R_score, f.F_score, m.M_score\n",
    "FROM R_score r\n",
    "JOIN frequencia_score f USING (CustomerID)\n",
    "JOIN monetaridade_score m USING (CustomerID);"
   ]
  },
  {
   "cell_type": "code",
   "execution_count": 0,
   "metadata": {
    "application/vnd.databricks.v1+cell": {
     "cellMetadata": {
      "byteLimit": 2048000,
      "implicitDf": true,
      "rowLimit": 10000
     },
     "inputWidgets": {},
     "nuid": "59af8187-0fdf-4dce-aea8-3c6c9a64c716",
     "showTitle": false,
     "tableResultSettingsMap": {},
     "title": ""
    }
   },
   "outputs": [],
   "source": [
    "%sql\n",
    "CREATE OR REPLACE TEMP VIEW rfm_silver_media AS\n",
    "SELECT CustomerID,\n",
    "       R_score,\n",
    "       (F_score + M_score)/2.0 AS media_FM\n",
    "FROM rfm_silver;"
   ]
  },
  {
   "cell_type": "code",
   "execution_count": 0,
   "metadata": {
    "application/vnd.databricks.v1+cell": {
     "cellMetadata": {
      "byteLimit": 2048000,
      "implicitDf": true,
      "rowLimit": 10000
     },
     "inputWidgets": {},
     "nuid": "2241b8cf-30c5-450f-8aea-750607841233",
     "showTitle": false,
     "tableResultSettingsMap": {},
     "title": ""
    }
   },
   "outputs": [],
   "source": [
    "%sql\n",
    "SELECT * FROM rfm_silver_media ORDER BY CustomerID LIMIT 10;"
   ]
  },
  {
   "cell_type": "code",
   "execution_count": 0,
   "metadata": {
    "application/vnd.databricks.v1+cell": {
     "cellMetadata": {
      "byteLimit": 2048000,
      "rowLimit": 10000
     },
     "inputWidgets": {},
     "nuid": "d830ecc8-3c31-4641-b189-c29f91b4135b",
     "showTitle": false,
     "tableResultSettingsMap": {},
     "title": ""
    }
   },
   "outputs": [],
   "source": [
    "import numpy as np\n",
    "#Converter para pandas para segmentação\n",
    "df_rfm = spark.table(\"rfm_silver_media\").toPandas()\n",
    "\n",
    "# Regras baseadas em análise e contexto do Online Retail II\n",
    "regras = [\n",
    "    (df_rfm['R_score'] >= 4) & (df_rfm['media_FM'] >= 4),\n",
    "    (df_rfm['R_score'] >= 3) & (df_rfm['media_FM'].between(3, 4)),\n",
    "    (df_rfm['R_score'] >= 3) & (df_rfm['media_FM'].between(2, 3)),\n",
    "    (df_rfm['R_score'] == 5) & (df_rfm['media_FM'] <= 2),\n",
    "    (df_rfm['R_score'] <= 2) & (df_rfm['media_FM'] >= 3),\n",
    "    (df_rfm['R_score'].between(2, 3)) & (df_rfm['media_FM'] <= 2),\n",
    "    (df_rfm['R_score'] <= 2) & (df_rfm['media_FM'] <= 2)\n",
    "]\n",
    "\n",
    "segmentos = [\n",
    "    'Champions',\n",
    "    'Loyal Customers',\n",
    "    'Potential Loyalist',\n",
    "    'New Customers',\n",
    "    'At Risk',\n",
    "    'About to Sleep',\n",
    "    'Lost'\n",
    "]\n",
    "\n",
    "df_rfm['GRUPO'] = np.select(regras, segmentos, default='Outros')"
   ]
  },
  {
   "cell_type": "code",
   "execution_count": 0,
   "metadata": {
    "application/vnd.databricks.v1+cell": {
     "cellMetadata": {
      "byteLimit": 2048000,
      "rowLimit": 10000
     },
     "inputWidgets": {},
     "nuid": "5a36cac4-bc44-4dca-8dde-c93d7f7ff219",
     "showTitle": false,
     "tableResultSettingsMap": {},
     "title": ""
    }
   },
   "outputs": [],
   "source": [
    "spark.createDataFrame(df_rfm).createOrReplaceTempView('rfm_gold_segmentacao')\n",
    "\n",
    "display(spark.table(\"rfm_gold_segmentacao\").limit(10))"
   ]
  },
  {
   "cell_type": "code",
   "execution_count": 0,
   "metadata": {
    "application/vnd.databricks.v1+cell": {
     "cellMetadata": {
      "byteLimit": 2048000,
      "rowLimit": 10000
     },
     "inputWidgets": {},
     "nuid": "1efcf880-0a84-427e-b7f3-c9c51150b2af",
     "showTitle": false,
     "tableResultSettingsMap": {},
     "title": ""
    }
   },
   "outputs": [],
   "source": [
    "# Instalar o pacote squarify (apenas uma vez por sessão)\n",
    "!pip install squarify --quiet\n",
    "\n",
    "# Reinicializa a sessão Python para ativar o pacote (Databricks exige isso após pip install)\n",
    "dbutils.library.restartPython()\n"
   ]
  },
  {
   "cell_type": "code",
   "execution_count": 0,
   "metadata": {
    "application/vnd.databricks.v1+cell": {
     "cellMetadata": {
      "byteLimit": 2048000,
      "rowLimit": 10000
     },
     "inputWidgets": {},
     "nuid": "6c01ef80-0ae3-463d-b22b-78b01449f0a2",
     "showTitle": false,
     "tableResultSettingsMap": {},
     "title": ""
    }
   },
   "outputs": [],
   "source": [
    "import matplotlib.pyplot as plt\n",
    "import squarify\n",
    "\n",
    "df = df_rfm.copy()\n",
    "\n",
    "# Agrupar por grupo e contar clientes\n",
    "grouped = df.groupby('GRUPO', as_index=False).agg(qt=('CustomerID','count'))\n",
    "total = grouped['qt'].sum()\n",
    "\n",
    "# Labels com % de clientes\n",
    "labels = [f\"{row['GRUPO']}\\n{(row['qt']/total)*100:.1f}%\" for _, row in grouped.iterrows()]\n",
    "\n",
    "# Plot Treemap\n",
    "plt.figure(figsize=(10,6))\n",
    "squarify.plot(\n",
    "    sizes=grouped['qt'],\n",
    "    label=labels,\n",
    "    alpha=0.85\n",
    ")\n",
    "plt.title(\"Treemap de Clientes por Segmento (% de clientes)\")\n",
    "plt.axis('off')\n",
    "plt.show()\n"
   ]
  },
  {
   "cell_type": "code",
   "execution_count": 0,
   "metadata": {
    "application/vnd.databricks.v1+cell": {
     "cellMetadata": {
      "byteLimit": 2048000,
      "rowLimit": 10000
     },
     "inputWidgets": {},
     "nuid": "27eff065-2b94-48b5-89fb-0077d3416b66",
     "showTitle": false,
     "tableResultSettingsMap": {},
     "title": ""
    }
   },
   "outputs": [],
   "source": [
    "plt.figure(figsize=(8,6))\n",
    "for seg, sub in df.groupby('GRUPO'):\n",
    "    plt.scatter(sub['media_FM'], sub['R_score'], label=seg, alpha=0.7)\n",
    "\n",
    "plt.xlabel('Média (F_score e M_score)')\n",
    "plt.ylabel('R_score')\n",
    "plt.title('Distribuição dos Clientes por Segmento (RFM)')\n",
    "plt.legend(bbox_to_anchor=(1.02, 1), loc='upper left')\n",
    "plt.show()\n"
   ]
  },
  {
   "cell_type": "markdown",
   "metadata": {
    "application/vnd.databricks.v1+cell": {
     "cellMetadata": {},
     "inputWidgets": {},
     "nuid": "0f25d111-dcef-4ec8-b9d8-475e0ad7ca4e",
     "showTitle": false,
     "tableResultSettingsMap": {},
     "title": ""
    }
   },
   "source": []
  }
 ],
 "metadata": {
  "application/vnd.databricks.v1+notebook": {
   "computePreferences": null,
   "dashboards": [],
   "environmentMetadata": {
    "base_environment": "",
    "environment_version": "4"
   },
   "inputWidgetPreferences": null,
   "language": "python",
   "notebookMetadata": {
    "mostRecentlyExecutedCommandWithImplicitDF": {
     "commandId": 7525646621300018,
     "dataframes": [
      "_sqldf"
     ]
    },
    "pythonIndentUnit": 4
   },
   "notebookName": "Segmentação-N1",
   "widgets": {}
  },
  "language_info": {
   "name": "python"
  }
 },
 "nbformat": 4,
 "nbformat_minor": 0
}
